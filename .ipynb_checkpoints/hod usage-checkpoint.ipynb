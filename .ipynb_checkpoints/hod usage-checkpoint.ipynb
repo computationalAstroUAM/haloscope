{
 "cells": [
  {
   "cell_type": "code",
   "execution_count": 2,
   "metadata": {},
   "outputs": [],
   "source": [
    "from hod import HOD\n",
    "import pandas as pd\n",
    "import matplotlib.pyplot as plt"
   ]
  },
  {
   "cell_type": "code",
   "execution_count": 3,
   "metadata": {},
   "outputs": [],
   "source": [
    "halofile = '/home/rsujatha/MEGA/taurus_to_laptop/highres-halocat.txt'\n",
    "catalogheader_names = ['M200b[0]','x[1]','y[2]','z[3]','Rvir[4]','Ax[5]','Ay[6]','Az[7]','Cx[8]','Cy[9]','Cz[10]','cvir[11]','spin[12]','c_to_a[13]','b_to_a[14]']\n",
    "df_dtype = [('M200b[0]','f'),('x[1]','f'),('y[2]','f'),('z[3]','f'),('Rvir[4]','f'),('Ax[5]','f'),('Ay[6]','f'),('Az[7]','f'),('Cx[8]','f'),('Cy[9]','f'),('Cz[10]','f'),('cvir[11]','f'),('spin[12]','f'),('c_to_a[13]','f'),('b_to_a[14]','f')]\n",
    "tp = pd.read_csv(halofile,names=catalogheader_names,dtype=df_dtype, delim_whitespace=True,comment='#',iterator=True, chunksize=1000,usecols=['M200b[0]','cvir[11]','spin[12]','c_to_a[13]','b_to_a[14]']) \n",
    "dfhr = pd.concat(tp, ignore_index=True) "
   ]
  },
  {
   "cell_type": "code",
   "execution_count": 4,
   "metadata": {},
   "outputs": [],
   "source": [
    "m200bhr = dfhr [\"M200b[0]\"]\n",
    "cvirhr = dfhr [\"cvir[11]\"]\n",
    "spinhr = dfhr [\"spin[12]\"]\n",
    "cahr = dfhr [\"c_to_a[13]\"]\n",
    "bahr = dfhr [\"b_to_a[14]\"]"
   ]
  },
  {
   "cell_type": "code",
   "execution_count": 5,
   "metadata": {},
   "outputs": [],
   "source": [
    "logMmin = 11.95\n",
    "sigmalogM = 0.65\n",
    "h = HOD(logMmin,sigmalogM)\n",
    "fa = h.convert_to_rank(m200bhr,cvirhr)\n",
    "fb = h.convert_to_rank(m200bhr,spinhr)\n",
    "fc = h.convert_to_rank(m200bhr,cahr)\n",
    "fd = h.convert_to_rank(m200bhr,bahr)\n",
    "fraction = h.N_central(m200bhr,fa,fb,fc,fd,-1,-1,-1,-1)\n",
    "sel1 = h.get_centrals(fraction)"
   ]
  },
  {
   "cell_type": "code",
   "execution_count": 6,
   "metadata": {},
   "outputs": [],
   "source": [
    "### sample the regular way without assembly bias\n",
    "fraction2 = h.N_central(m200bhr,fa,fb,fc,fd,-1,-1,-1,-1)\n",
    "sel2 = h.get_centrals(fraction2)"
   ]
  },
  {
   "cell_type": "code",
   "execution_count": 32,
   "metadata": {},
   "outputs": [],
   "source": [
    "M = np.logspace(11.3,14.5,25)\n",
    "Mgp = np.sqrt(M[1:]*M[0:-1])\n",
    "Nc = h.N_central(Mgp,logMmin,sigmalogM)\n",
    "Number_of_haloes,k = np.histogram(m200bhr,M)\n",
    "Number_of_centrals,k = np.histogram(m200bhr[get_central],M)"
   ]
  },
  {
   "cell_type": "code",
   "execution_count": 33,
   "metadata": {},
   "outputs": [
    {
     "data": {
      "text/plain": [
       "Text(0, 0.5, '<N-central>')"
      ]
     },
     "execution_count": 33,
     "metadata": {},
     "output_type": "execute_result"
    },
    {
     "data": {
      "image/png": "[encoded data removed]",
      "text/plain": [
       "<Figure size 432x288 with 1 Axes>"
      ]
     },
     "metadata": {
      "needs_background": "light"
     },
     "output_type": "display_data"
    }
   ],
   "source": [
    "## plot to demonstrate that this way of incorporating Assembly bias is \"HOD conserving\"- \n",
    "## minimises modification to allow for assembly bias (cite andrew hearin decorated hod:1512.03050)\n",
    "plt.plot(Mgp,Number_of_centrals/Number_of_haloes,label='Central galaxies-with AssemblyBias')\n",
    "plt.plot(Mgp,Nc,linestyle='dashed',label='Analytical-Nc expression')\n",
    "plt.xscale('log')\n",
    "plt.legend()\n",
    "plt.xlabel(\"$M200b h^{-1}M_{\\odot}$\")\n",
    "plt.ylabel('<N-central>')"
   ]
  },
  {
   "cell_type": "code",
   "execution_count": null,
   "metadata": {},
   "outputs": [],
   "source": []
  }
 ],
 "metadata": {
  "kernelspec": {
   "display_name": "Python 3",
   "language": "python",
   "name": "python3"
  },
  "language_info": {
   "codemirror_mode": {
    "name": "ipython",
    "version": 3
   },
   "file_extension": ".py",
   "mimetype": "text/x-python",
   "name": "python",
   "nbconvert_exporter": "python",
   "pygments_lexer": "ipython3",
   "version": "3.8.10"
  },
  "varInspector": {
   "cols": {
    "lenName": 16,
    "lenType": 16,
    "lenVar": 40
   },
   "kernels_config": {
    "python": {
     "delete_cmd_postfix": "",
     "delete_cmd_prefix": "del ",
     "library": "var_list.py",
     "varRefreshCmd": "print(var_dic_list())"
    },
    "r": {
     "delete_cmd_postfix": ") ",
     "delete_cmd_prefix": "rm(",
     "library": "var_list.r",
     "varRefreshCmd": "cat(var_dic_list()) "
    }
   },
   "types_to_exclude": [
    "module",
    "function",
    "builtin_function_or_method",
    "instance",
    "_Feature"
   ],
   "window_display": false
  }
 },
 "nbformat": 4,
 "nbformat_minor": 4
}
